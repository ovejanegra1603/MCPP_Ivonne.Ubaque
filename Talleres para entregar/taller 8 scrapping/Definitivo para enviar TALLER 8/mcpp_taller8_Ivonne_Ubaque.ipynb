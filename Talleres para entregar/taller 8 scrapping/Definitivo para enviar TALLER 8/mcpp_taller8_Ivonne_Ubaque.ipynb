{
 "cells": [
  {
   "cell_type": "markdown",
   "metadata": {},
   "source": [
    "# Taller 8\n",
    "Métodos Computacionales para Políticas Públicas - URosario\n",
    "\n",
    "Entrega: viernes 6-nov-2020 11:59 PM"
   ]
  },
  {
   "cell_type": "markdown",
   "metadata": {},
   "source": [
    "**[Ivonne Paola Ubaque Galán]**\n",
    "\n",
    "[ivonne.ubaque@urosario.edu.co]"
   ]
  },
  {
   "cell_type": "markdown",
   "metadata": {},
   "source": [
    "## Primer ejercicio\n",
    "\n",
    "### Usando expresiones regulares extraiga en una lista todos los números presentes en el siguiente objeto de Python:\n",
    "\n",
    "ob1 = \"JEFF BEZOS, the founder of Amazon, has reached a divorce settlement with his wife, MacKenzie. Mr Bezos will keep all the shares in the Washington Post and Blue Origin, a space-exploration firm, as well as 75% of the couple’s Amazon stock. Mrs Bezos will retain a 4% stake in the tech giant, worth nearly $36bn, which is likely to make her the third-richest woman alive when the divorce is finalised.\""
   ]
  },
  {
   "cell_type": "code",
   "execution_count": 1,
   "metadata": {},
   "outputs": [],
   "source": [
    "import re\n",
    "import requests\n",
    "from bs4 import BeautifulSoup\n",
    "\n",
    "ob1 = \"JEFF BEZOS, the founder of Amazon, has reached a divorce settlement with his wife, MacKenzie. Mr Bezos will keep all the shares in the Washington Post and Blue Origin, a spaceexploration firm, as well as 75% of the couple’s Amazon stock. Mrs Bezos will retain a 4% stake in the tech giant, worth nearly $36bn, which is likely to make her the third-richest woman alive when the divorce is finalised.\"\n"
   ]
  },
  {
   "cell_type": "code",
   "execution_count": 2,
   "metadata": {},
   "outputs": [
    {
     "data": {
      "text/plain": [
       "['75', '4', '36']"
      ]
     },
     "execution_count": 2,
     "metadata": {},
     "output_type": "execute_result"
    }
   ],
   "source": [
    "ob1\n",
    "numeros = re.findall('[0-9]+', ob1)\n",
    "numeros"
   ]
  },
  {
   "cell_type": "markdown",
   "metadata": {},
   "source": [
    "## Segundo ejercicio \n",
    "\n",
    "### Usando expresiones regulares ahora extraiga de ob1 sólo los números que correspondan a porcentajes."
   ]
  },
  {
   "cell_type": "code",
   "execution_count": 3,
   "metadata": {},
   "outputs": [
    {
     "data": {
      "text/plain": [
       "['75%', '4%']"
      ]
     },
     "execution_count": 3,
     "metadata": {},
     "output_type": "execute_result"
    }
   ],
   "source": [
    "y = re.findall('[0-9%]+%',ob1)\n",
    "y"
   ]
  },
  {
   "cell_type": "markdown",
   "metadata": {},
   "source": [
    "### Tercer ejercicio\n",
    "\n",
    "### Usando expresiones regulares, escriba una función de Python que reciba una fecha en formato Marzo 7, 2019 y retorne la fecha en formato 2019-07-03"
   ]
  },
  {
   "cell_type": "code",
   "execution_count": 4,
   "metadata": {},
   "outputs": [
    {
     "data": {
      "text/plain": [
       "(['2019'], '-', ['Marzo'], '-', [' 7,'])"
      ]
     },
     "execution_count": 4,
     "metadata": {},
     "output_type": "execute_result"
    }
   ],
   "source": [
    "import time\n",
    "\n",
    "def formato(fecha): \n",
    "    dia = re.findall(' .+?,', fecha) \n",
    "    mes = re.findall('M.+?o', fecha)\n",
    "    ano = re.findall('2.+?9', fecha)\n",
    "    \n",
    "    \n",
    "    formatofecha = ano,\"-\",mes,\"-\",dia\n",
    "    return formatofecha\n",
    " \n",
    "    \n",
    "        \n",
    "fecha = \"Marzo 7, 2019\"        \n",
    "dia2=formato(fecha)\n",
    "dia2"
   ]
  },
  {
   "cell_type": "markdown",
   "metadata": {},
   "source": [
    "## Cuarto ejercicio\n",
    "\n",
    "### ob2 es un string que reune una lista de clases en una universidad. Use expresiones regulares para extraer los códigos de cada una de las clases. Ejemplo: El código de la clase COMPSCI 143 (Spring 2012): Machine Learning es 143.\n",
    "\n",
    "ob2 = \"COMPSCI 270 (Spring 2019): Introduction to Artificial Intelligence. COMPSCI 590.2 (Fall 2018): Computational Microeconomics: Game Theory, Social Choice, and Mechanism Design. COMPSCI 223 (Spring 2018): Computational Microeconomics. COMPSCI 570 (Fall 2017): Artificial Intelligence. COMPSCI 590.3 (Fall 2017) / 590.1 (Spring 2018): Ethics and AI. COMPSCI 590.2 (Spring 2017): Computation, Information, and Learning in Market Design. COMPSCI 590.4 (Spring 2016): Computational Microeconomics: Game Theory, Social Choice, and Mechanism Design. COMPSCI 290.4/590.4 (Spring 2015): Crowdsourcing Societal Tradeoffs. COMPSCI 570 (Fall 2014): Artificial Intelligence. COMPSCI 590.4 (Spring 2014): Computational Microeconomics: Game Theory, Social Choice, and Mechanism Design. COMPSCI 590.1 (Fall 2012): Linear and Integer Programming. COMPSCI 173 (Spring 2012): Computational Microeconomics. COMPSCI 296.1 (Fall 2011): Computational Microeconomics: Game Theory, Social Choice, and Mechanism Design. COMPSCI 296.1 (Fall 2010): Linear and Integer Programming. COMPSCI 173 (Spring 2010): Computational Microeconomics. COMPSCI 196.1/296.1 (Fall 2009): Computational Microeconomics: Game Theory, Social Choice, and Mechanism Design. COMPSCI 170 (Spring 2009): Introduction to Artificial Intelligence. COMPSCI 270 (Fall 2008): Artificial Intelligence. COMPSCI 196/296.2 (Spring 2008): Linear and Integer Programming. COMPSCI 196.2 (Fall 2007): Introduction to Computational Economics. COMPSCI 296.3 (Spring 2007): Topics in Computational Economics. COMPSCI 296.2 (Fall 2006): Computational Game Theory and Mechanism Design.\""
   ]
  },
  {
   "cell_type": "code",
   "execution_count": 5,
   "metadata": {},
   "outputs": [
    {
     "data": {
      "text/plain": [
       "['I 270 ',\n",
       " 'I 590.2 ',\n",
       " 'I 223 ',\n",
       " 'I 570 ',\n",
       " 'I 590.3 ',\n",
       " 'I 590.2 ',\n",
       " 'I 590.4 ',\n",
       " 'I 290.4/590.4 ',\n",
       " 'I 570 ',\n",
       " 'I 590.4 ',\n",
       " 'I 590.1 ',\n",
       " 'I 173 ',\n",
       " 'I 296.1 ',\n",
       " 'I 296.1 ',\n",
       " 'I 173 ',\n",
       " 'I 196.1/296.1 ',\n",
       " 'I 170 ',\n",
       " 'I 270 ',\n",
       " 'I 196/296.2 ',\n",
       " 'I 196.2 ',\n",
       " 'I 296.3 ',\n",
       " 'I 296.2 ']"
      ]
     },
     "execution_count": 5,
     "metadata": {},
     "output_type": "execute_result"
    }
   ],
   "source": [
    "ob2 = \"COMPSCI 270 (Spring 2019): Introduction to Artificial Intelligence. COMPSCI 590.2 (Fall 2018): Computational Microeconomics: Game Theory, Social Choice, and Mechanism Design. COMPSCI 223 (Spring 2018): Computational Microeconomics. COMPSCI 570 (Fall 2017): Artificial Intelligence. COMPSCI 590.3 (Fall 2017) / 590.1 (Spring 2018): Ethics and AI. COMPSCI 590.2 (Spring 2017): Computation, Information, and Learning in Market Design. COMPSCI 590.4 (Spring 2016): Computational Microeconomics: Game Theory, Social Choice, and Mechanism Design. COMPSCI 290.4/590.4 (Spring 2015): Crowdsourcing Societal Tradeoffs. COMPSCI 570 (Fall 2014): Artificial Intelligence. COMPSCI 590.4 (Spring 2014): Computational Microeconomics: Game Theory, Social Choice, and Mechanism Design. COMPSCI 590.1 (Fall 2012): Linear and Integer Programming. COMPSCI 173 (Spring 2012): Computational Microeconomics. COMPSCI 296.1 (Fall 2011): Computational Microeconomics: Game Theory, Social Choice, and Mechanism Design. COMPSCI 296.1 (Fall 2010): Linear and Integer Programming. COMPSCI 173 (Spring 2010): Computational Microeconomics. COMPSCI 196.1/296.1 (Fall 2009): Computational Microeconomics: Game Theory, Social Choice, and Mechanism Design. COMPSCI 170 (Spring 2009): Introduction to Artificial Intelligence. COMPSCI 270 (Fall 2008): Artificial Intelligence. COMPSCI 196/296.2 (Spring 2008): Linear and Integer Programming. COMPSCI 196.2 (Fall 2007): Introduction to Computational Economics. COMPSCI 296.3 (Spring 2007): Topics in Computational Economics. COMPSCI 296.2 (Fall 2006): Computational Game Theory and Mechanism Design.\"\n",
    "   \n",
    "codigo = re.findall('I .+? ', ob2)\n",
    "codigo"
   ]
  },
  {
   "cell_type": "markdown",
   "metadata": {},
   "source": [
    "## Quinto ejercicio\n",
    "\n",
    "### ob3 es un string que reune una lista de publicaciones. Use expresiones regulares para extraer todos los Journals en los cuales el autor ha publicado. Ejemplo: El paper Bail, CA. \"The configuration of symbolic boundaries against immigrants in Europe.\" American Sociological Review 73.1 (January 1, 2008): 37-59. Full Text fue publicado en el Journal American Sociological Review\n"
   ]
  },
  {
   "cell_type": "code",
   "execution_count": 6,
   "metadata": {
    "scrolled": true
   },
   "outputs": [
    {
     "data": {
      "text/plain": [
       "['\" Proceedings of the National Academy of Sciences of the United States of America ',\n",
       " '\" Science Advances ',\n",
       " '\" American Sociological Review ',\n",
       " '\" Sociological Methods and Research ',\n",
       " '\" Sociological Theory ',\n",
       " '\" Proceedings of the National Academy of Sciences of the United States of America ',\n",
       " '\" American journal of public health ',\n",
       " '\" Sociological Theory ',\n",
       " '\" Theory and Society ']"
      ]
     },
     "execution_count": 6,
     "metadata": {},
     "output_type": "execute_result"
    }
   ],
   "source": [
    "ob3 = 'Bail, CA, Argyle, LP, Brown, TW, Bumpus, JP, Chen, H, Hunzaker, MBF, Lee, J, Mann, M, Merhout, F, and Volfovsky, A. \"Exposure to opposing views on social media can increase political polarization.\" Proceedings of the National Academy of Sciences of the United States of America 115.37 (September 2018): 9216-9221. Full Text Open Access Copy.\\n\", \"Bail, CA, Merhout, F, and Ding, P. \"Using Internet search data to examine the relationship between anti-Muslim and pro-ISIS sentiment in U.S. counties.\" Science Advances 4.6 (June 6, 2018): eaao5948-null. Full Text Open Access Copy.\\n\", \"Bail, CA, Brown, TW, and Mann, M. \"Channeling Hearts and Minds: Advocacy Organizations, Cognitive-Emotional Currents, and Public Conversation.\" American Sociological Review 82.6 (December 1, 2017): 1188-1213. Full Text.\\n\", \"Bail, CA. \"Taming Big Data: Using App Technology to Study Organizational Behavior on Social Media.\" Sociological Methods and Research 46.2 (March 1, 2017): 189-217. Full Text.\\n\", \"McDonnell, TE, Bail, CA, and Tavory, I. \"A Theory of Resonance.\" Sociological Theory 35.1 (March 1, 2017): 1-14. Full Text.\\n\", \"Bail, CA. \"Combining natural language processing and network analysis to examine how advocacy organizations stimulate conversation on social media.\" Proceedings of the National Academy of Sciences of the United States of America 113.42 (October 2016): 11823-11828. Full Text.\\n\", \"Bail, CA. \"Emotional Feedback and the Viral Spread of Social Media Messages About Autism Spectrum Disorders.\" American journal of public health 106.7 (July 2016): 1173-1180. Full Text.\\n\", \"Bail, CA. \"The public life of secrets: Deception, disclosure, and discursive framing in the policy process.\" Sociological Theory 33.2 (January 1, 2015): 97-124. Full Text.\\n\", \"Bail, CA. \"The cultural environment: Measuring culture with big data.\" Theory and Society 43.3 (January 1, 2014): 465- 524. Full Text.\"'\n",
    "\n",
    "revista = re.findall('\" .+? [^0-9]+', ob3)\n",
    "revista"
   ]
  },
  {
   "cell_type": "markdown",
   "metadata": {},
   "source": [
    "### Sexto ejercicio \n",
    "Vamos a hacer \"scraping\" a esta página: https://archive.ics.uci.edu/ml/datasets.php, que contiene un listado de 559 bases de datos que hacen parte del repositorio de la Universidad de California, Irvine.\n",
    "\n",
    "Su tarea consiste en crear un \"Pandas dataframe\" que contenga 559 filas (una por base de datos) y las siguientes columnas:"
   ]
  },
  {
   "cell_type": "code",
   "execution_count": 7,
   "metadata": {},
   "outputs": [
    {
     "data": {
      "text/plain": [
       "\"import requests\\nfrom bs4 import BeautifulSoup\\n\\nhtml = requests.get('https://archive.ics.uci.edu/ml/datasets.php').text\\n\\nsoup = BeautifulSoup(html)\\nsoup\\n\\ntype(soup)\\n\\n# presentar HTML en estructura de fácil lectura\\nprint(soup.prettify())\\n\\n# Explorar elementos del HTML\\nsoup.head\\n\""
      ]
     },
     "execution_count": 7,
     "metadata": {},
     "output_type": "execute_result"
    }
   ],
   "source": [
    "'''import requests\n",
    "from bs4 import BeautifulSoup\n",
    "\n",
    "html = requests.get('https://archive.ics.uci.edu/ml/datasets.php').text\n",
    "\n",
    "soup = BeautifulSoup(html)\n",
    "soup\n",
    "\n",
    "type(soup)\n",
    "\n",
    "# presentar HTML en estructura de fácil lectura\n",
    "print(soup.prettify())\n",
    "\n",
    "# Explorar elementos del HTML\n",
    "soup.head\n",
    "'''"
   ]
  },
  {
   "cell_type": "code",
   "execution_count": 8,
   "metadata": {},
   "outputs": [
    {
     "name": "stdout",
     "output_type": "stream",
     "text": [
      "[['Name', 'Data Types', 'Default Task', 'Attribute Types', '# Instances', '# Attributes', 'Year']]\n",
      "Abalone | Multivariate  | Classification  | Categorical, Integer, Real  | 4177  | 8  | 1995 \n",
      "Adult | Multivariate  | Classification  | Categorical, Integer  | 48842  | 14  | 1996 \n",
      "Annealing | Multivariate  | Classification  | Categorical, Integer, Real  | 798  | 38  |  \n",
      "Anonymous Microsoft Web Data |   | Recommender-Systems  | Categorical  | 37711  | 294  | 1998 \n",
      "Arrhythmia | Multivariate  | Classification  | Categorical, Integer, Real  | 452  | 279  | 1998 \n",
      "Artificial Characters | Multivariate  | Classification  | Categorical, Integer, Real  | 6000  | 7  | 1992 \n",
      "Audiology (Original) | Multivariate  | Classification  | Categorical  | 226  |   | 1987 \n",
      "Audiology (Standardized) | Multivariate  | Classification  | Categorical  | 226  | 69  | 1992 \n",
      "Auto MPG | Multivariate  | Regression  | Categorical, Real  | 398  | 8  | 1993 \n",
      "Automobile | Multivariate  | Regression  | Categorical, Integer, Real  | 205  | 26  | 1987 \n",
      "Badges | Univariate, Text  | Classification  |   | 294  | 1  | 1994 \n",
      "Balance Scale | Multivariate  | Classification  | Categorical  | 625  | 4  | 1994 \n",
      "Balloons | Multivariate  | Classification  | Categorical  | 16  | 4  |  \n",
      "Breast Cancer | Multivariate  | Classification  | Categorical  | 286  | 9  | 1988 \n",
      "Breast Cancer Wisconsin (Original) | Multivariate  | Classification  | Integer  | 699  | 10  | 1992 \n",
      "Breast Cancer Wisconsin (Prognostic) | Multivariate  | Classification, Regression  | Real  | 198  | 34  | 1995 \n",
      "Breast Cancer Wisconsin (Diagnostic) | Multivariate  | Classification  | Real  | 569  | 32  | 1995 \n",
      "Pittsburgh Bridges | Multivariate  | Classification  | Categorical, Integer  | 108  | 13  | 1990 \n",
      "Car Evaluation | Multivariate  | Classification  | Categorical  | 1728  | 6  | 1997 \n",
      "Census Income | Multivariate  | Classification  | Categorical, Integer  | 48842  | 14  | 1996 \n",
      "Chess (King-Rook vs. King-Knight) | Multivariate, Data-Generator  | Classification  | Categorical, Integer  |   | 22  | 1988 \n",
      "Chess (King-Rook vs. King-Pawn) | Multivariate  | Classification  | Categorical  | 3196  | 36  | 1989 \n",
      "Chess (King-Rook vs. King) | Multivariate  | Classification  | Categorical, Integer  | 28056  | 6  | 1994 \n",
      "Chess (Domain Theories) | Domain-Theory  |   |   |   |   |  \n",
      "Bach Chorales | Univariate, Time-Series  |   | Categorical, Integer  | 100  | 6  |  \n",
      "Connect-4 | Multivariate, Spatial  | Classification  | Categorical  | 67557  | 42  | 1995 \n",
      "Credit Approval | Multivariate  | Classification  | Categorical, Integer, Real  | 690  | 15  |  \n",
      "Japanese Credit Screening | Multivariate, Domain-Theory  | Classification  | Categorical, Real, Integer  | 125  |   | 1992 \n",
      "Computer Hardware | Multivariate  | Regression  | Integer  | 209  | 9  | 1987 \n",
      "Contraceptive Method Choice | Multivariate  | Classification  | Categorical, Integer  | 1473  | 9  | 1997 \n",
      "Covertype | Multivariate  | Classification  | Categorical, Integer  | 581012  | 54  | 1998 \n",
      "Cylinder Bands | Multivariate  | Classification  | Categorical, Integer, Real  | 512  | 39  | 1995 \n",
      "Dermatology | Multivariate  | Classification  | Categorical, Integer  | 366  | 33  | 1998 \n",
      "Diabetes | Multivariate, Time-Series  |   | Categorical, Integer  |   | 20  |  \n",
      "DGP2 - The Second Data Generation Program | Data-Generator  |   | Real  |   |   |  \n",
      "Document Understanding |   |   |   |   |   | 1994 \n",
      "EBL Domain Theories |   |   |   |   |   |  \n",
      "Echocardiogram | Multivariate  | Classification  | Categorical, Integer, Real  | 132  | 12  | 1989 \n",
      "Ecoli | Multivariate  | Classification  | Real  | 336  | 8  | 1996 \n",
      "Flags | Multivariate  | Classification  | Categorical, Integer  | 194  | 30  | 1990 \n",
      "Function Finding |   | Function-Learning  | Real  | 352  |   | 1990 \n",
      "Glass Identification | Multivariate  | Classification  | Real  | 214  | 10  | 1987 \n",
      "Haberman's Survival | Multivariate  | Classification  | Integer  | 306  | 3  | 1999 \n",
      "Hayes-Roth | Multivariate  | Classification  | Categorical  | 160  | 5  | 1989 \n",
      "Heart Disease | Multivariate  | Classification  | Categorical, Integer, Real  | 303  | 75  | 1988 \n",
      "Hepatitis | Multivariate  | Classification  | Categorical, Integer, Real  | 155  | 19  | 1988 \n",
      "Horse Colic | Multivariate  | Classification  | Categorical, Integer, Real  | 368  | 27  | 1989 \n",
      "ICU | Multivariate, Time-Series  |   | Real  |   |   |  \n",
      "Image Segmentation | Multivariate  | Classification  | Real  | 2310  | 19  | 1990 \n",
      "Internet Advertisements | Multivariate  | Classification  | Categorical, Integer, Real  | 3279  | 1558  | 1998 \n",
      "Ionosphere | Multivariate  | Classification  | Integer, Real  | 351  | 34  | 1989 \n",
      "Iris | Multivariate  | Classification  | Real  | 150  | 4  | 1988 \n",
      "ISOLET | Multivariate  | Classification  | Real  | 7797  | 617  | 1994 \n",
      "Kinship | Relational  | Relational-Learning  | Categorical  | 104  | 12  | 1990 \n",
      "Labor Relations | Multivariate  |   | Categorical, Integer, Real  | 57  | 16  | 1988 \n",
      "LED Display Domain | Multivariate, Data-Generator  | Classification  | Categorical  |   | 7  | 1988 \n",
      "Lenses | Multivariate  | Classification  | Categorical  | 24  | 4  | 1990 \n",
      "Letter Recognition | Multivariate  | Classification  | Integer  | 20000  | 16  | 1991 \n",
      "Liver Disorders | Multivariate  |   | Categorical, Integer, Real  | 345  | 7  | 1990 \n",
      "Logic Theorist | Domain-Theory  |   |   |   |   |  \n",
      "Lung Cancer | Multivariate  | Classification  | Integer  | 32  | 56  | 1992 \n",
      "Lymphography | Multivariate  | Classification  | Categorical  | 148  | 18  | 1988 \n",
      "Mechanical Analysis | Multivariate  | Classification  | Categorical, Integer, Real  | 209  | 8  | 1990 \n",
      "Meta-data | Multivariate  | Classification  | Categorical, Integer, Real  | 528  | 22  | 1996 \n",
      "Mobile Robots | Domain-Theory  |   | Categorical, Integer, Real  |   |   | 1995 \n",
      "Molecular Biology (Promoter Gene Sequences) | Sequential, Domain-Theory  | Classification  | Categorical  | 106  | 58  | 1990 \n",
      "Molecular Biology (Protein Secondary Structure) | Sequential  | Classification  | Categorical  | 128  |   |  \n",
      "Molecular Biology (Splice-junction Gene Sequences) | Sequential, Domain-Theory  | Classification  | Categorical  | 3190  | 61  | 1992 \n",
      "MONK's Problems | Multivariate  | Classification  | Categorical  | 432  | 7  | 1992 \n",
      "Moral Reasoner | Domain-Theory  |   |   | 202  |   | 1994 \n",
      "Multiple Features | Multivariate  | Classification  | Integer, Real  | 2000  | 649  |  \n",
      "Mushroom | Multivariate  | Classification  | Categorical  | 8124  | 22  | 1987 \n",
      "Musk (Version 1) | Multivariate  | Classification  | Integer  | 476  | 168  | 1994 \n",
      "Musk (Version 2) | Multivariate  | Classification  | Integer  | 6598  | 168  | 1994 \n",
      "Nursery | Multivariate  | Classification  | Categorical  | 12960  | 8  | 1997 \n",
      "Othello Domain Theory | Domain-Theory  |   |   |   |   | 1991 \n",
      "Page Blocks Classification | Multivariate  | Classification  | Integer, Real  | 5473  | 10  | 1995 \n",
      "Optical Recognition of Handwritten Digits | Multivariate  | Classification  | Integer  | 5620  | 64  | 1998 \n",
      "Pen-Based Recognition of Handwritten Digits | Multivariate  | Classification  | Integer  | 10992  | 16  | 1998 \n",
      "Post-Operative Patient | Multivariate  | Classification  | Categorical, Integer  | 90  | 8  | 1993 \n",
      "Primary Tumor | Multivariate  | Classification  | Categorical  | 339  | 17  | 1988 \n",
      "Prodigy | Domain-Theory  |   |   |   |   |  \n",
      "Qualitative Structure Activity Relationships | Domain-Theory  |   |   |   |   |  \n",
      "Quadruped Mammals | Multivariate, Data-Generator  | Classification  | Real  |   | 72  | 1992 \n",
      "Servo | Multivariate  | Regression  | Categorical, Integer  | 167  | 4  | 1993 \n",
      "Shuttle Landing Control | Multivariate  | Classification  | Categorical  | 15  | 6  | 1988 \n",
      "Solar Flare | Multivariate  | Regression  | Categorical  | 1389  | 10  | 1989 \n",
      "Soybean (Large) | Multivariate  | Classification  | Categorical  | 307  | 35  | 1988 \n",
      "Soybean (Small) | Multivariate  | Classification  | Categorical  | 47  | 35  | 1987 \n",
      "Challenger USA Space Shuttle O-Ring | Multivariate  | Regression  | Integer  | 23  | 4  | 1993 \n",
      "Low Resolution Spectrometer | Multivariate  | Classification  | Integer, Real  | 531  | 102  | 1988 \n",
      "Spambase | Multivariate  | Classification  | Integer, Real  | 4601  | 57  | 1999 \n",
      "SPECT Heart | Multivariate  | Classification  | Categorical  | 267  | 22  | 2001 \n",
      "SPECTF Heart | Multivariate  | Classification  | Integer  | 267  | 44  | 2001 \n",
      "Sponge | Multivariate  | Clustering  | Categorical, Integer  | 76  | 45  |  \n",
      "Statlog Project |   |   |   |   |   | 1992 \n",
      "Student Loan Relational | Domain-Theory  |   |   | 1000  |   | 1993 \n",
      "Teaching Assistant Evaluation | Multivariate  | Classification  | Categorical, Integer  | 151  | 5  | 1997 \n",
      "Tic-Tac-Toe Endgame | Multivariate  | Classification  | Categorical  | 958  | 9  | 1991 \n",
      "Thyroid Disease | Multivariate, Domain-Theory  | Classification  | Categorical, Real  | 7200  | 21  | 1987 \n",
      "Trains | Multivariate  | Classification  | Categorical  | 10  | 32  | 1994 \n",
      "University | Multivariate  | Classification  | Categorical, Integer  | 285  | 17  | 1988 \n",
      "Congressional Voting Records | Multivariate  | Classification  | Categorical  | 435  | 16  | 1987 \n",
      "Water Treatment Plant | Multivariate  | Clustering  | Integer, Real  | 527  | 38  | 1993 \n",
      "Waveform Database Generator (Version 1) | Multivariate, Data-Generator  | Classification  | Real  | 5000  | 21  | 1988 \n",
      "Waveform Database Generator (Version 2) | Multivariate, Data-Generator  | Classification  | Real  | 5000  | 40  | 1988 \n",
      "Wine | Multivariate  | Classification  | Integer, Real  | 178  | 13  | 1991 \n",
      "Yeast | Multivariate  | Classification  | Real  | 1484  | 8  | 1996 \n",
      "Zoo | Multivariate  | Classification  | Categorical, Integer  | 101  | 17  | 1990 \n",
      "Undocumented |   |   |   |   |   |  \n",
      "Twenty Newsgroups | Text  |   |   | 20000  |   | 1999 \n",
      "Australian Sign Language signs | Multivariate, Time-Series  | Classification  | Categorical, Real  | 6650  | 15  | 1999 \n",
      "Australian Sign Language signs (High Quality) | Multivariate, Time-Series  | Classification  | Real  | 2565  | 22  | 2002 \n",
      "US Census Data (1990) | Multivariate  | Clustering  | Categorical  | 2458285  | 68  |  \n",
      "Census-Income (KDD) | Multivariate  | Classification  | Categorical, Integer  | 299285  | 40  | 2000 \n",
      "Coil 1999 Competition Data | Multivariate  |   | Categorical, Real  | 340  | 17  | 1999 \n",
      "Corel Image Features | Multivariate  |   | Real  | 68040  | 89  | 1999 \n",
      "E. Coli Genes | Relational  |   |   |   |   | 2001 \n",
      "EEG Database | Multivariate, Time-Series  |   | Categorical, Integer, Real  | 122  | 4  | 1999 \n",
      "El Nino | Spatio-temporal  |   | Integer, Real  | 178080  | 12  | 1999 \n",
      "Entree Chicago Recommendation Data | Transactional, Sequential  | Recommender-Systems  | Categorical  | 50672  |   | 2000 \n",
      "CMU Face Images | Image  | Classification  | Integer  | 640  |   | 1999 \n",
      "Insurance Company Benchmark (COIL 2000) | Multivariate  | Regression, Description  | Categorical, Integer  | 9000  | 86  | 2000 \n",
      "Internet Usage Data | Multivariate  |   | Categorical, Integer  | 10104  | 72  | 1999 \n",
      "IPUMS Census Database | Multivariate  |   | Categorical, Integer  | 256932  | 61  | 1999 \n",
      "Japanese Vowels | Multivariate, Time-Series  | Classification  | Real  | 640  | 12  |  \n",
      "KDD Cup 1998 Data | Multivariate  | Regression  | Categorical, Integer  | 191779  | 481  | 1998 \n",
      "KDD Cup 1999 Data | Multivariate  | Classification  | Categorical, Integer  | 4000000  | 42  | 1999 \n",
      "M. Tuberculosis Genes | Relational  |   |   |   |   | 2001 \n",
      "Movie | Multivariate, Relational  |   |   | 10000  |   | 1999 \n",
      "MSNBC.com Anonymous Web Data | Sequential  |   | Categorical  | 989818  |   |  \n",
      "NSF Research Award Abstracts 1990-2003 | Text  |   |   | 129000  |   | 2003 \n",
      "Pioneer-1 Mobile Robot Data | Multivariate, Time-Series  |   | Categorical, Real  |   |   | 1999 \n",
      "Pseudo Periodic Synthetic Time Series | Univariate, Time-Series  |   |   | 100000  |   | 1999 \n",
      "Reuters-21578 Text Categorization Collection | Text  | Classification  | Categorical  | 21578  | 5  | 1997 \n",
      "Robot Execution Failures | Multivariate, Time-Series  | Classification  | Integer  | 463  | 90  | 1999 \n",
      "Synthetic Control Chart Time Series | Time-Series  | Classification, Clustering  | Real  | 600  |   | 1999 \n",
      "Syskill and Webert Web Page Ratings | Multivariate, Text  | Classification  | Categorical  | 332  | 5  | 1998 \n",
      "UNIX User Data | Text, Sequential  |   |   |   |   |  \n",
      "Volcanoes on Venus - JARtool experiment | Image  | Classification  |   |   |   |  \n",
      "Statlog (Australian Credit Approval) | Multivariate  | Classification  | Categorical, Integer, Real  | 690  | 14  |  \n",
      "Statlog (German Credit Data) | Multivariate  | Classification  | Categorical, Integer  | 1000  | 20  | 1994 \n",
      "Statlog (Heart) | Multivariate  | Classification  | Categorical, Real  | 270  | 13  |  \n",
      "Statlog (Landsat Satellite) | Multivariate  | Classification  | Integer  | 6435  | 36  | 1993 \n",
      "Statlog (Image Segmentation) | Multivariate  | Classification  | Real  | 2310  | 19  | 1990 \n",
      "Statlog (Shuttle) | Multivariate  | Classification  | Integer  | 58000  | 9  |  \n",
      "Statlog (Vehicle Silhouettes) | Multivariate  | Classification  | Integer  | 946  | 18  |  \n",
      "Connectionist Bench (Nettalk Corpus) | Multivariate  |   | Categorical  | 20008  | 4  |  \n",
      "Connectionist Bench (Sonar, Mines vs. Rocks) | Multivariate  | Classification  | Real  | 208  | 60  |  \n",
      "Connectionist Bench (Vowel Recognition - Deterding Data) |   | Classification  | Real  | 528  | 10  |  \n",
      "Economic Sanctions | Domain-Theory  |   |   |   |   |  \n",
      "Protein Data |   |   |   |   |   |  \n",
      "Cloud | Multivariate  |   | Real  | 1024  | 10  | 1989 \n",
      "CalIt2 Building People Counts | Multivariate, Time-Series  |   | Categorical, Integer  | 10080  | 4  | 2006 \n",
      "Dodgers Loop Sensor | Multivariate, Time-Series  |   | Categorical, Integer  | 50400  | 3  | 2006 \n",
      "Poker Hand | Multivariate  | Classification  | Categorical, Integer  | 1025010  | 11  | 2007 \n",
      "MAGIC Gamma Telescope | Multivariate  | Classification  | Real  | 19020  | 11  | 2007 \n",
      "UJI Pen Characters | Multivariate, Sequential  | Classification  | Integer  | 1364  |   | 2007 \n",
      "Mammographic Mass | Multivariate  | Classification  | Integer  | 961  | 6  | 2007 \n",
      "Forest Fires | Multivariate  | Regression  | Real  | 517  | 13  | 2008 \n",
      "Reuters Transcribed Subset | Text  | Classification  |   | 200  |   | 2008 \n",
      "Bag of Words | Text  | Clustering  | Integer  | 8000000  | 100000  | 2008 \n",
      "Concrete Compressive Strength | Multivariate  | Regression  | Real  | 1030  | 9  | 2007 \n",
      "Hill-Valley | Sequential  | Classification  | Real  | 606  | 101  | 2008 \n",
      "Arcene | Multivariate  | Classification  | Real  | 900  | 10000  | 2008 \n",
      "Dexter | Multivariate  | Classification  | Integer  | 2600  | 20000  | 2008 \n",
      "Dorothea | Multivariate  | Classification  | Integer  | 1950  | 100000  | 2008 \n",
      "Gisette | Multivariate  | Classification  | Integer  | 13500  | 5000  | 2008 \n",
      "Madelon | Multivariate  | Classification  | Real  | 4400  | 500  | 2008 \n",
      "Ozone Level Detection | Multivariate, Sequential, Time-Series  | Classification  | Real  | 2536  | 73  | 2008 \n",
      "Abscisic Acid Signaling Network | Multivariate  | Causal-Discovery  | Integer  | 300  | 43  | 2008 \n",
      "Parkinsons | Multivariate  | Classification  | Real  | 197  | 23  | 2008 \n",
      "Character Trajectories | Time-Series  | Classification, Clustering  | Real  | 2858  | 3  | 2008 \n",
      "Blood Transfusion Service Center | Multivariate  | Classification  | Real  | 748  | 5  | 2008 \n",
      "UJI Pen Characters (Version 2) | Multivariate, Sequential  | Classification  | Integer  | 11640  |   | 2009 \n",
      "Semeion Handwritten Digit | Multivariate  | Classification  | Integer  | 1593  | 256  | 2008 \n",
      "SECOM | Multivariate  | Classification, Causal-Discovery  | Real  | 1567  | 591  | 2008 \n",
      "Plants | Multivariate  | Clustering  | Categorical  | 22632  | 70  | 2008 \n",
      "Libras Movement | Multivariate, Sequential  | Classification, Clustering  | Real  | 360  | 91  | 2009 \n",
      "Concrete Slump Test | Multivariate  | Regression  | Real  | 103  | 10  | 2009 \n",
      "Communities and Crime | Multivariate  | Regression  | Real  | 1994  | 128  | 2009 \n",
      "Acute Inflammations | Multivariate  | Classification  | Categorical, Integer  | 120  | 6  | 2009 \n",
      "Wine Quality | Multivariate  | Classification, Regression  | Real  | 4898  | 12  | 2009 \n",
      "URL Reputation | Multivariate, Time-Series  | Classification  | Integer, Real  | 2396130  | 3231961  | 2009 \n",
      "p53 Mutants | Multivariate  | Classification  | Real  | 16772  | 5409  | 2010 \n",
      "Parkinsons Telemonitoring | Multivariate  | Regression  | Integer, Real  | 5875  | 26  | 2009 \n",
      "Demospongiae | Multivariate  | Classification  | Integer  | 503  |   | 2010 \n",
      "Opinosis Opinion ⁄ Review | Text  |   |   | 51  |   | 2010 \n",
      "Breast Tissue | Multivariate  | Classification  | Real  | 106  | 10  | 2010 \n",
      "Cardiotocography | Multivariate  | Classification  | Real  | 2126  | 23  | 2010 \n",
      "Wall-Following Robot Navigation Data | Multivariate, Sequential  | Classification  | Real  | 5456  | 24  | 2010 \n",
      "Spoken Arabic Digit | Multivariate, Time-Series  | Classification  | Real  | 8800  | 13  | 2010 \n",
      "Localization Data for Person Activity | Univariate, Sequential, Time-Series  | Classification  | Real  | 164860  | 8  | 2010 \n",
      "AutoUniv | Multivariate  | Classification  | Categorical, Integer, Real  |   |   | 2010 \n",
      "Steel Plates Faults | Multivariate  | Classification  | Integer, Real  | 1941  | 27  | 2010 \n",
      "MiniBooNE particle identification | Multivariate  | Classification  | Real  | 130065  | 50  | 2010 \n",
      "YearPredictionMSD | Multivariate  | Regression  | Real  | 515345  | 90  | 2011 \n",
      "PEMS-SF | Multivariate, Time-Series  | Classification  | Real  | 440  | 138672  | 2011 \n",
      "OpinRank Review Dataset | Text  |   |   |   |   | 2011 \n",
      "Relative location of CT slices on axial axis | Domain-Theory  | Regression  | Real  | 53500  | 386  | 2011 \n",
      "Online Handwritten Assamese Characters Dataset | Multivariate, Sequential  | Classification  | Integer  | 8235  |   | 2011 \n",
      "PubChem Bioassay Data | Multivariate  | Classification  | Integer, Real  |   |   | 2011 \n",
      "Record Linkage Comparison Patterns | Multivariate  | Classification  | Real  | 5749132  | 12  | 2011 \n",
      "Communities and Crime Unnormalized | Multivariate  | Regression  | Real  | 2215  | 147  | 2011 \n",
      "Vertebral Column | Multivariate  | Classification  | Real  | 310  | 6  | 2011 \n",
      "EMG Physical Action Data Set | Time-Series  | Classification  | Real  | 10000  | 8  | 2011 \n",
      "Vicon Physical Action Data Set | Time-Series  | Classification  | Real  | 3000  | 27  | 2011 \n",
      "Amazon Commerce reviews set | Multivariate, Text, Domain-Theory  | Classification  | Real  | 1500  | 10000  | 2011 \n",
      "Amazon Access Samples | Time-Series, Domain-Theory  | Regression, Clustering, Causal-Discovery  |   | 30000  | 20000  | 2011 \n",
      "Reuter_50_50 | Multivariate, Text, Domain-Theory  | Classification, Clustering  | Real  | 2500  | 10000  | 2011 \n",
      "Farm Ads | Text  | Classification  |   | 4143  | 54877  | 2011 \n",
      "DBWorld e-mails | Text  | Classification  |   | 64  | 4702  | 2011 \n",
      "KEGG Metabolic Relation Network (Directed) | Multivariate, Univariate, Text  | Classification, Regression, Clustering  | Integer, Real  | 53414  | 24  | 2011 \n",
      "KEGG Metabolic Reaction Network (Undirected) | Multivariate, Univariate, Text  | Classification, Regression, Clustering  | Integer, Real  | 65554  | 29  | 2011 \n",
      "Bank Marketing | Multivariate  | Classification  | Real  | 45211  | 17  | 2012 \n",
      "YouTube Comedy Slam Preference Data | Text  | Classification  |   | 1138562  | 3  | 2012 \n",
      "Gas Sensor Array Drift Dataset | Multivariate  | Classification  | Real  | 13910  | 128  | 2012 \n",
      "ILPD (Indian Liver Patient Dataset) | Multivariate  | Classification  | Integer, Real  | 583  | 10  | 2012 \n",
      "OPPORTUNITY Activity Recognition | Multivariate, Time-Series  | Classification  | Real  | 2551  | 242  | 2012 \n",
      "Nomao | Univariate  | Classification  | Real  | 34465  | 120  | 2012 \n",
      "SMS Spam Collection | Multivariate, Text, Domain-Theory  | Classification, Clustering  | Real  | 5574  |   | 2012 \n",
      "Skin Segmentation | Univariate  | Classification  | Real  | 245057  | 4  | 2012 \n",
      "Planning Relax | Univariate  | Classification  | Real  | 182  | 13  | 2012 \n",
      "PAMAP2 Physical Activity Monitoring | Multivariate, Time-Series  | Classification  | Real  | 3850505  | 52  | 2012 \n",
      "Restaurant & consumer data | Multivariate  |   |   | 138  | 47  | 2012 \n",
      "CNAE-9 | Multivariate, Text  | Classification  | Integer  | 1080  | 857  | 2012 \n",
      "Individual household electric power consumption | Multivariate, Time-Series  | Regression, Clustering  | Real  | 2075259  | 9  | 2012 \n",
      "seeds | Multivariate  | Classification, Clustering  | Real  | 210  | 7  | 2012 \n",
      "Northix | Multivariate, Univariate, Text  | Classification  | Integer, Real  | 115  | 200  | 2012 \n",
      "QtyT40I10D100K | Sequential  |   | Integer  | 3960456  | 4  | 2012 \n",
      "Legal Case Reports | Text  | Classification  |   |   |   | 2012 \n",
      "Human Activity Recognition Using Smartphones | Multivariate, Time-Series  | Classification, Clustering  |   | 10299  | 561  | 2012 \n",
      "One-hundred plant species leaves data set |   | Classification  | Real  | 1600  | 64  | 2012 \n",
      "Energy efficiency | Multivariate  | Classification, Regression  | Integer, Real  | 768  | 8  | 2012 \n",
      "Yacht Hydrodynamics | Multivariate  | Regression  | Real  | 308  | 7  | 2013 \n",
      "Fertility | Multivariate  | Classification, Regression  | Real  | 100  | 10  | 2013 \n",
      "Daphnet Freezing of Gait | Multivariate, Time-Series  | Classification  | Real  | 237  | 9  | 2013 \n",
      "3D Road Network (North Jutland, Denmark) | Sequential, Text  | Regression, Clustering  | Real  | 434874  | 4  | 2013 \n",
      "ISTANBUL STOCK EXCHANGE | Multivariate, Univariate, Time-Series  | Classification, Regression  | Real  | 536  | 8  | 2013 \n",
      "Buzz in social media  | Time-Series, Multivariate  | Regression, Classification  | Integer, Real  | 140000  | 77  | 2013 \n",
      "First-order theorem proving | Multivariate  | Classification  | Real  | 6118  | 51  | 2013 \n",
      "Wearable Computing: Classification of Body Postures and Movements (PUC-Rio) | Sequential  | Classification  | Integer, Real  | 165632  | 18  | 2013 \n",
      "Gas sensor arrays in open sampling settings | Multivariate, Time-Series  | Classification  | Real  | 18000  | 1950000  | 2013 \n",
      "Climate Model Simulation Crashes | Multivariate  | Classification  | Real  | 540  | 18  | 2013 \n",
      "MicroMass | Multivariate  | Classification  | Real  | 931  | 1300  | 2013 \n",
      "QSAR biodegradation | Multivariate  | Classification  | Integer, Real  | 1055  | 41  | 2013 \n",
      "BLOGGER | Multivariate  | Classification  |   | 100  | 6  | 2013 \n",
      "Daily and Sports Activities | Multivariate, Time-Series  | Classification, Clustering  | Real  | 9120  | 5625  | 2013 \n",
      "User Knowledge Modeling | Multivariate  | Classification, Clustering  | Integer  | 403  | 5  | 2013 \n",
      "Reuters RCV1 RCV2 Multilingual, Multiview Text Categorization Test collection | Multivariate  | Classification  | Real  | 111740  |   | 2013 \n",
      "NYSK | Multivariate, Sequential, Text  | Clustering  |   | 10421  | 7  | 2013 \n",
      "Turkiye Student Evaluation | Multivariate  | Classification, Clustering  |   | 5820  | 33  | 2013 \n",
      "ser Knowledge Modeling Data (Students' Knowledge Levels on DC Electrical Machines) | Multivariate  | Classification  | Real  | 403  | 5  | 2013 \n",
      "EEG Eye State | Multivariate, Sequential, Time-Series  | Classification  | Integer, Real  | 14980  | 15  | 2013 \n",
      "Physicochemical Properties of Protein Tertiary Structure | Multivariate  | Regression  | Real  | 45730  | 9  | 2013 \n",
      "seismic-bumps | Multivariate  | Classification  | Real  | 2584  | 19  | 2013 \n",
      "banknote authentication | Multivariate  | Classification  | Real  | 1372  | 5  | 2013 \n",
      "USPTO Algorithm Challenge, run by NASA-Harvard Tournament Lab and TopCoder    Problem: Pat | Domain-Theory  | Classification  | Integer  | 306  | 5  | 2013 \n",
      "YouTube Multiview Video Games Dataset | Multivariate, Text  | Classification, Clustering  | Integer, Real  | 120000  | 1000000  | 2013 \n",
      "Gas Sensor Array Drift Dataset at Different Concentrations | Multivariate, Time-Series  | Classification, Regression, Clustering, Causa  | Real  | 13910  | 129  | 2013 \n",
      "Activities of Daily Living (ADLs) Recognition Using Binary Sensors | Multivariate, Sequential, Time-Series  | Classification, Clustering  |   | 2747  |   | 2013 \n",
      "SkillCraft1 Master Table Dataset | Multivariate  | Regression  | Integer, Real  | 3395  | 20  | 2013 \n",
      "Weight Lifting Exercises monitored with Inertial Measurement Units | Multivariate  | Classification  | Real  | 39242  | 152  | 2013 \n",
      "SML2010 | Multivariate, Sequential, Time-Series, Text  | Regression  | Real  | 4137  | 24  | 2014 \n",
      "Bike Sharing Dataset | Univariate  | Regression  | Integer, Real  | 17389  | 16  | 2013 \n",
      "Predict keywords activities in a online social media | Multivariate, Sequential, Time-Series  |   | Integer, Real  | 51  | 35  | 2013 \n",
      "Thoracic Surgery Data | Multivariate  | Classification  | Integer, Real  | 470  | 17  | 2013 \n",
      "EMG dataset in Lower Limb | Multivariate, Time-Series  |   | Real  | 132  | 5  | 2014 \n",
      "SUSY |   | Classification  | Real  | 5000000  | 18  | 2014 \n",
      "HIGGS |   | Classification  | Real  | 11000000  | 28  | 2014 \n",
      "Qualitative_Bankruptcy | Multivariate  | Classification  |   | 250  | 7  | 2014 \n",
      "LSVT Voice Rehabilitation | Multivariate  | Classification  | Real  | 126  | 309  | 2014 \n",
      "Dataset for ADL Recognition with Wrist-worn Accelerometer | Multivariate, Time-Series  | Classification, Clustering  |   |   | 3  | 2014 \n",
      "Wilt | Multivariate  | Classification  |   | 4889  | 6  | 2014 \n",
      "User Identification From Walking Activity | Univariate, Sequential, Time-Series  | Classification, Clustering  | Real  |   |   | 2014 \n",
      "Activity Recognition from Single Chest-Mounted Accelerometer | Univariate, Sequential, Time-Series  | Classification, Clustering  | Real  |   |   | 2014 \n",
      "Leaf | Multivariate  | Classification  | Real  | 340  | 16  | 2014 \n",
      "Dresses_Attribute_Sales | Text  | Classification, Clustering  |   | 501  | 13  | 2014 \n",
      "Tamilnadu Electricity Board Hourly Readings | Multivariate  | Classification, Regression, Clustering  | Real  | 45781  | 5  | 2013 \n",
      "Airfoil Self-Noise | Multivariate  | Regression  | Real  | 1503  | 6  | 2014 \n"
     ]
    },
    {
     "ename": "IndexError",
     "evalue": "list index out of range",
     "output_type": "error",
     "traceback": [
      "\u001b[1;31m---------------------------------------------------------------------------\u001b[0m",
      "\u001b[1;31mIndexError\u001b[0m                                Traceback (most recent call last)",
      "\u001b[1;32m<ipython-input-8-16f497350bd2>\u001b[0m in \u001b[0;36m<module>\u001b[1;34m\u001b[0m\n\u001b[0;32m     24\u001b[0m \u001b[1;33m\u001b[0m\u001b[0m\n\u001b[0;32m     25\u001b[0m \u001b[1;32mfor\u001b[0m \u001b[0mi\u001b[0m \u001b[1;32min\u001b[0m \u001b[0mrange\u001b[0m \u001b[1;33m(\u001b[0m\u001b[1;36m2000\u001b[0m\u001b[1;33m)\u001b[0m\u001b[1;33m:\u001b[0m\u001b[1;33m\u001b[0m\u001b[1;33m\u001b[0m\u001b[0m\n\u001b[1;32m---> 26\u001b[1;33m    \u001b[0mprint\u001b[0m\u001b[1;33m(\u001b[0m\u001b[0mdatos\u001b[0m\u001b[1;33m[\u001b[0m\u001b[0mj\u001b[0m\u001b[1;33m]\u001b[0m\u001b[1;33m[\u001b[0m\u001b[1;36m0\u001b[0m\u001b[1;33m]\u001b[0m\u001b[1;33m+\u001b[0m\u001b[1;34m\" | \"\u001b[0m\u001b[1;33m+\u001b[0m\u001b[0mdatos\u001b[0m\u001b[1;33m[\u001b[0m\u001b[0mj\u001b[0m\u001b[1;33m]\u001b[0m\u001b[1;33m[\u001b[0m\u001b[1;36m1\u001b[0m\u001b[1;33m]\u001b[0m\u001b[1;33m+\u001b[0m\u001b[1;34m\" | \"\u001b[0m\u001b[1;33m+\u001b[0m\u001b[0mdatos\u001b[0m\u001b[1;33m[\u001b[0m\u001b[0mj\u001b[0m\u001b[1;33m]\u001b[0m\u001b[1;33m[\u001b[0m\u001b[1;36m2\u001b[0m\u001b[1;33m]\u001b[0m\u001b[1;33m+\u001b[0m\u001b[1;34m\" | \"\u001b[0m\u001b[1;33m+\u001b[0m\u001b[0mdatos\u001b[0m\u001b[1;33m[\u001b[0m\u001b[0mj\u001b[0m\u001b[1;33m]\u001b[0m\u001b[1;33m[\u001b[0m\u001b[1;36m3\u001b[0m\u001b[1;33m]\u001b[0m\u001b[1;33m+\u001b[0m\u001b[1;34m\" | \"\u001b[0m\u001b[1;33m+\u001b[0m\u001b[0mdatos\u001b[0m\u001b[1;33m[\u001b[0m\u001b[0mj\u001b[0m\u001b[1;33m]\u001b[0m\u001b[1;33m[\u001b[0m\u001b[1;36m4\u001b[0m\u001b[1;33m]\u001b[0m\u001b[1;33m+\u001b[0m\u001b[1;34m\" | \"\u001b[0m\u001b[1;33m+\u001b[0m\u001b[0mdatos\u001b[0m\u001b[1;33m[\u001b[0m\u001b[0mj\u001b[0m\u001b[1;33m]\u001b[0m\u001b[1;33m[\u001b[0m\u001b[1;36m5\u001b[0m\u001b[1;33m]\u001b[0m\u001b[1;33m+\u001b[0m\u001b[1;34m\" | \"\u001b[0m\u001b[1;33m+\u001b[0m\u001b[0mdatos\u001b[0m\u001b[1;33m[\u001b[0m\u001b[0mj\u001b[0m\u001b[1;33m]\u001b[0m\u001b[1;33m[\u001b[0m\u001b[1;36m6\u001b[0m\u001b[1;33m]\u001b[0m\u001b[1;33m)\u001b[0m\u001b[1;33m\u001b[0m\u001b[1;33m\u001b[0m\u001b[0m\n\u001b[0m\u001b[0;32m     27\u001b[0m    \u001b[0mj\u001b[0m \u001b[1;33m=\u001b[0m \u001b[0mj\u001b[0m \u001b[1;33m+\u001b[0m \u001b[1;36m2\u001b[0m\u001b[1;33m\u001b[0m\u001b[1;33m\u001b[0m\u001b[0m\n",
      "\u001b[1;31mIndexError\u001b[0m: list index out of range"
     ]
    }
   ],
   "source": [
    "import requests\n",
    "from bs4 import BeautifulSoup\n",
    "\n",
    "html = requests.get('https://archive.ics.uci.edu/ml/datasets.php').text\n",
    "soup = BeautifulSoup(html)\n",
    "type(soup)\n",
    "\n",
    "tabla = soup.find_all('table')\n",
    "row_tabla = tabla[5].findAll('table')\n",
    "body2_tabla = tabla[5].find_all('tr')\n",
    "\n",
    "titulos = []\n",
    "titulos.append([header.text for header in body2_tabla[0].findAll('td')])\n",
    "print(titulos)\n",
    "\n",
    "datos = []\n",
    "i = 1\n",
    "j=0\n",
    "datof =[]\n",
    "element = []\n",
    "\n",
    "for i in range (559):\n",
    "   datos.append([data.text for data in body2_tabla[i+1].findAll('p')])\n",
    "\n",
    "for i in range (2000):\n",
    "   print(datos[j][0]+\" | \"+datos[j][1]+\" | \"+datos[j][2]+\" | \"+datos[j][3]+\" | \"+datos[j][4]+\" | \"+datos[j][5]+\" | \"+datos[j][6])\n",
    "   j = j + 2"
   ]
  }
 ],
 "metadata": {
  "kernelspec": {
   "display_name": "Python 3",
   "language": "python",
   "name": "python3"
  },
  "language_info": {
   "codemirror_mode": {
    "name": "ipython",
    "version": 3
   },
   "file_extension": ".py",
   "mimetype": "text/x-python",
   "name": "python",
   "nbconvert_exporter": "python",
   "pygments_lexer": "ipython3",
   "version": "3.8.3"
  }
 },
 "nbformat": 4,
 "nbformat_minor": 4
}
