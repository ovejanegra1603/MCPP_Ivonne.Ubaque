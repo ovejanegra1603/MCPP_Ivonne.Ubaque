{
 "cells": [
  {
   "cell_type": "markdown",
   "metadata": {},
   "source": [
    "# Taller 9\n",
    "Métodos Computacionales para Políticas Públicas - URosario\n",
    "\n",
    "Entrega: viernes 13-nov-2020 11:59 PM"
   ]
  },
  {
   "cell_type": "markdown",
   "metadata": {},
   "source": [
    "[Ivonne Paola Ubaque Galán]\n",
    "\n",
    "\n",
    "[ivonne.ubaque@urosario.edu.co]"
   ]
  },
  {
   "cell_type": "markdown",
   "metadata": {},
   "source": [
    "## Instrucciones:\n",
    "- Guarde una copia de este *Jupyter Notebook* en su computador, idealmente en una carpeta destinada al material del curso.\n",
    "- Modifique el nombre del archivo del *notebook*, agregando al final un guión inferior y su nombre y apellido, separados estos últimos por otro guión inferior. Por ejemplo, mi *notebook* se llamaría: mcpp_taller9_santiago_matallana\n",
    "- Marque el *notebook* con su nombre y e-mail en el bloque verde arriba. Reemplace el texto \"[Su nombre acá]\" con su nombre y apellido. Similar para su e-mail.\n",
    "- Desarrolle la totalidad del taller sobre este *notebook*, insertando las celdas que sea necesario debajo de cada pregunta. Haga buen uso de las celdas para código y de las celdas tipo *markdown* según el caso.\n",
    "- Recuerde salvar periódicamente sus avances.\n",
    "- Cuando termine el taller:\n",
    "    1. Descárguelo en PDF. Si tiene algún problema con la conversión, descárguelo en HTML.\n",
    "    2. Suba todos los archivos a su repositorio en GitHub, en una carpeta destinada exclusivamente para este taller, antes de la fecha y hora límites."
   ]
  },
  {
   "cell_type": "markdown",
   "metadata": {},
   "source": [
    "NLTK Book (http://www.nltk.org/book/), ejercicios:\n",
    "- Capítulo 1: 22, 26, 28\n",
    "- Capítulo 2: 2, 4, 11"
   ]
  },
  {
   "cell_type": "markdown",
   "metadata": {},
   "source": [
    "## CAPITULO UNO"
   ]
  },
  {
   "cell_type": "code",
   "execution_count": 10,
   "metadata": {},
   "outputs": [],
   "source": [
    "#previo instalar: pip install nltk  \n",
    "\n",
    "import nltk\n",
    "import re\n",
    "import requests\n",
    "#nltk.download() #descargar libreria para book\n",
    "from nltk.book import *\n",
    "\n"
   ]
  },
  {
   "cell_type": "markdown",
   "metadata": {},
   "source": [
    "# 22 - Find all the four-letter words in the Chat Corpus (text5). With the help of a frequency distribution (FreqDist), show these words in decreasing order of frequency."
   ]
  },
  {
   "cell_type": "code",
   "execution_count": 11,
   "metadata": {},
   "outputs": [
    {
     "name": "stdout",
     "output_type": "stream",
     "text": [
      "Lista de palabras mayores a 4 letras\n",
      "<FreqDist with 1181 samples and 10204 outcomes>\n",
      "\n",
      "LAS QUE MAS SE REPITEN\n",
      "[('JOIN', 1021), ('PART', 1016), ('that', 274), ('what', 183), ('here', 181), ('....', 170), ('have', 164), ('like', 156), ('with', 152), ('chat', 142), ('your', 137), ('good', 130), ('just', 125), ('lmao', 107), ('know', 103), ('room', 98), ('from', 92), ('this', 86), ('well', 81), ('back', 78), ('hiya', 78), ('they', 77), ('dont', 75), ('yeah', 75), ('want', 71), ('love', 60), ('guys', 58), ('some', 58), ('been', 57), ('talk', 56), ('nice', 52), ('time', 50), ('when', 48), ('haha', 44), ('make', 44), ('girl', 43), ('need', 43), ('U122', 42), ('MODE', 41), ('will', 40), ('much', 40), ('then', 40), ('over', 39), ('work', 38), ('were', 38), ('take', 37), ('U121', 36), ('U115', 36), ('song', 36), ('even', 35), ('does', 35), ('seen', 35), ('U156', 35), ('U105', 35), ('more', 34), ('damn', 34), ('only', 33), ('come', 33), ('hell', 29), ('long', 28), ('them', 28), ('name', 27), ('tell', 27), ('away', 26), ('sure', 26), ('look', 26), ('baby', 26), ('call', 26), ('play', 25), ('U110', 25), ('U114', 25), ('NICK', 24), ('down', 24), ('cool', 24), ('sexy', 23), ('many', 23), ('hate', 23), ('said', 23), ('last', 22), ('ever', 22), ('hear', 21), ('life', 21), ('live', 20), ('feel', 19), ('very', 19), ('mean', 19), ('give', 19), ('same', 19), ('must', 19), ('stop', 19), ('LMAO', 19), ('!!!!', 18), ('hugs', 18), ('What', 18), ('find', 18), ('cant', 18), ('left', 17), ('????', 17), ('shit', 17), ('nite', 17)]\n"
     ]
    }
   ],
   "source": [
    "palabras = [w for w in text5 if len(w) == 4]\n",
    "\n",
    "#print (sorted(palabras))\n",
    "\n",
    "print(\"Lista de palabras mayores a 4 letras\")\n",
    "\n",
    "frecuencia = FreqDist(palabras)\n",
    "print(frecuencia)\n",
    "print(\"\")\n",
    "print(\"LAS QUE MAS SE REPITEN\")\n",
    "\n",
    "print(frecuencia.most_common(100))\n"
   ]
  },
  {
   "cell_type": "markdown",
   "metadata": {},
   "source": [
    "# 26 What does the following Python code do? sum(len(w) for w in text1) Can you use it to work out the average word length of a text?"
   ]
  },
  {
   "cell_type": "code",
   "execution_count": 3,
   "metadata": {},
   "outputs": [
    {
     "name": "stdout",
     "output_type": "stream",
     "text": [
      "158114\n",
      "R/ No, este codigo sirve para mumar la cantidad total de caracteres con la cuales esta conformado el texto.\n"
     ]
    }
   ],
   "source": [
    "print(sum(len(w) for w in text5))\n",
    "\n",
    "print(\"R/ No, este codigo sirve para mumar la cantidad total de caracteres con la cuales esta conformado el texto.\")"
   ]
  },
  {
   "cell_type": "markdown",
   "metadata": {},
   "source": [
    "# 28 Define a function percent(word, text) that calculates how often a given word occurs in a text, and expresses the result as a percentage."
   ]
  },
  {
   "cell_type": "code",
   "execution_count": 4,
   "metadata": {},
   "outputs": [],
   "source": [
    "def porcent(palabra,text):\n",
    "    mitexto = [w for w in text if len(w) > 2] # las palabras se forman a partir de dos caracteres\n",
    "    total= len(mitexto) #tamaño al estar separado por palabras contamos la cantidad\n",
    "    numero = mitexto.count(palabra) #busca la cantidad de la palabra que estamos buscando\n",
    "    res = (numero/total)*100 # operacion para hallar porcentaje\n",
    "    print (\"La palabra \",palabra,\"representa el \",round(res,3),\"%\")\n",
    "    "
   ]
  },
  {
   "cell_type": "code",
   "execution_count": 5,
   "metadata": {},
   "outputs": [
    {
     "name": "stdout",
     "output_type": "stream",
     "text": [
      "Ingrese la palabra que desa buscar en Text5:JOIN\n",
      "La palabra  JOIN representa el  3.332 %\n"
     ]
    }
   ],
   "source": [
    "palabra = input(\"Ingrese la palabra que desa buscar en Text5:\")\n",
    "porcent(palabra,text5)   \n",
    "\n",
    "#Buscar la palabra, para este caso JOIN"
   ]
  },
  {
   "cell_type": "markdown",
   "metadata": {},
   "source": [
    "# CAPITULO 2"
   ]
  },
  {
   "cell_type": "code",
   "execution_count": 6,
   "metadata": {},
   "outputs": [
    {
     "data": {
      "text/plain": [
       "['austen-emma.txt',\n",
       " 'austen-persuasion.txt',\n",
       " 'austen-sense.txt',\n",
       " 'bible-kjv.txt',\n",
       " 'blake-poems.txt',\n",
       " 'bryant-stories.txt',\n",
       " 'burgess-busterbrown.txt',\n",
       " 'carroll-alice.txt',\n",
       " 'chesterton-ball.txt',\n",
       " 'chesterton-brown.txt',\n",
       " 'chesterton-thursday.txt',\n",
       " 'edgeworth-parents.txt',\n",
       " 'melville-moby_dick.txt',\n",
       " 'milton-paradise.txt',\n",
       " 'shakespeare-caesar.txt',\n",
       " 'shakespeare-hamlet.txt',\n",
       " 'shakespeare-macbeth.txt',\n",
       " 'whitman-leaves.txt']"
      ]
     },
     "execution_count": 6,
     "metadata": {},
     "output_type": "execute_result"
    }
   ],
   "source": [
    "nltk.corpus.gutenberg.fileids()"
   ]
  },
  {
   "cell_type": "markdown",
   "metadata": {},
   "source": [
    "# 2 Use the corpus module to explore austen-persuasion.txt. How many word tokens does this book have? How many word types?"
   ]
  },
  {
   "cell_type": "code",
   "execution_count": 7,
   "metadata": {},
   "outputs": [
    {
     "name": "stdout",
     "output_type": "stream",
     "text": [
      "Contiene  98171  palabras y 6132 tipos de palabras.\n"
     ]
    }
   ],
   "source": [
    "palabras = nltk.corpus.gutenberg.words('austen-persuasion.txt')\n",
    "\n",
    "print(\"Contiene \",len(palabras),\" palabras y\",len(set(palabras)),\"tipos de palabras.\")\n"
   ]
  },
  {
   "cell_type": "markdown",
   "metadata": {},
   "source": [
    "# 4 Read in the texts of the State of the Union addresses, using the state_union corpus reader. Count occurrences of men, women, and people in each document. What has happened to the usage of these words over time?"
   ]
  },
  {
   "cell_type": "code",
   "execution_count": 8,
   "metadata": {},
   "outputs": [
    {
     "name": "stdout",
     "output_type": "stream",
     "text": [
      "1945-Truman.txt men :  2\n",
      "1945-Truman.txt women :  2\n",
      "1945-Truman.txt people :  10\n",
      "1946-Truman.txt men :  14\n",
      "1946-Truman.txt women :  9\n",
      "1946-Truman.txt people :  59\n",
      "1947-Truman.txt men :  21\n",
      "1947-Truman.txt women :  11\n",
      "1947-Truman.txt people :  71\n",
      "1948-Truman.txt men :  25\n",
      "1948-Truman.txt women :  12\n",
      "1948-Truman.txt people :  93\n",
      "1949-Truman.txt men :  27\n",
      "1949-Truman.txt women :  13\n",
      "1949-Truman.txt people :  108\n",
      "1950-Truman.txt men :  33\n",
      "1950-Truman.txt women :  15\n",
      "1950-Truman.txt people :  123\n",
      "1951-Truman.txt men :  41\n",
      "1951-Truman.txt women :  17\n",
      "1951-Truman.txt people :  132\n",
      "1953-Eisenhower.txt men :  44\n",
      "1953-Eisenhower.txt women :  17\n",
      "1953-Eisenhower.txt people :  149\n",
      "1954-Eisenhower.txt men :  46\n",
      "1954-Eisenhower.txt women :  17\n",
      "1954-Eisenhower.txt people :  164\n",
      "1955-Eisenhower.txt men :  50\n",
      "1955-Eisenhower.txt women :  17\n",
      "1955-Eisenhower.txt people :  190\n",
      "1956-Eisenhower.txt men :  52\n",
      "1956-Eisenhower.txt women :  19\n",
      "1956-Eisenhower.txt people :  220\n",
      "1957-Eisenhower.txt men :  57\n",
      "1957-Eisenhower.txt women :  21\n",
      "1957-Eisenhower.txt people :  231\n",
      "1958-Eisenhower.txt men :  59\n",
      "1958-Eisenhower.txt women :  22\n",
      "1958-Eisenhower.txt people :  250\n",
      "1959-Eisenhower.txt men :  63\n",
      "1959-Eisenhower.txt women :  23\n",
      "1959-Eisenhower.txt people :  261\n",
      "1960-Eisenhower.txt men :  65\n",
      "1960-Eisenhower.txt women :  23\n",
      "1960-Eisenhower.txt people :  271\n",
      "1961-Kennedy.txt men :  71\n",
      "1961-Kennedy.txt women :  23\n",
      "1961-Kennedy.txt people :  281\n",
      "1962-Kennedy.txt men :  77\n",
      "1962-Kennedy.txt women :  25\n",
      "1962-Kennedy.txt people :  291\n",
      "1963-Johnson.txt men :  77\n",
      "1963-Johnson.txt women :  25\n",
      "1963-Johnson.txt people :  294\n",
      "1963-Kennedy.txt men :  85\n",
      "1963-Kennedy.txt women :  30\n",
      "1963-Kennedy.txt people :  306\n",
      "1964-Johnson.txt men :  88\n",
      "1964-Johnson.txt women :  31\n",
      "1964-Johnson.txt people :  309\n",
      "1965-Johnson-1.txt men :  95\n",
      "1965-Johnson-1.txt women :  31\n",
      "1965-Johnson-1.txt people :  325\n",
      "1965-Johnson-2.txt men :  106\n",
      "1965-Johnson-2.txt women :  34\n",
      "1965-Johnson-2.txt people :  339\n",
      "1966-Johnson.txt men :  118\n",
      "1966-Johnson.txt women :  35\n",
      "1966-Johnson.txt people :  374\n",
      "1967-Johnson.txt men :  129\n",
      "1967-Johnson.txt women :  36\n",
      "1967-Johnson.txt people :  399\n",
      "1968-Johnson.txt men :  133\n",
      "1968-Johnson.txt women :  36\n",
      "1968-Johnson.txt people :  416\n",
      "1969-Johnson.txt men :  138\n",
      "1969-Johnson.txt women :  38\n",
      "1969-Johnson.txt people :  422\n",
      "1970-Nixon.txt men :  140\n",
      "1970-Nixon.txt women :  38\n",
      "1970-Nixon.txt people :  445\n",
      "1971-Nixon.txt men :  141\n",
      "1971-Nixon.txt women :  38\n",
      "1971-Nixon.txt people :  476\n",
      "1972-Nixon.txt men :  142\n",
      "1972-Nixon.txt women :  38\n",
      "1972-Nixon.txt people :  483\n",
      "1973-Nixon.txt men :  142\n",
      "1973-Nixon.txt women :  38\n",
      "1973-Nixon.txt people :  492\n",
      "1974-Nixon.txt men :  142\n",
      "1974-Nixon.txt women :  38\n",
      "1974-Nixon.txt people :  511\n",
      "1975-Ford.txt men :  142\n",
      "1975-Ford.txt women :  38\n",
      "1975-Ford.txt people :  524\n",
      "1976-Ford.txt men :  145\n",
      "1976-Ford.txt women :  39\n",
      "1976-Ford.txt people :  542\n",
      "1977-Ford.txt men :  147\n",
      "1977-Ford.txt women :  40\n",
      "1977-Ford.txt people :  559\n",
      "1978-Carter.txt men :  147\n",
      "1978-Carter.txt women :  41\n",
      "1978-Carter.txt people :  585\n",
      "1979-Carter.txt men :  147\n",
      "1979-Carter.txt women :  42\n",
      "1979-Carter.txt people :  600\n",
      "1980-Carter.txt men :  148\n",
      "1980-Carter.txt women :  44\n",
      "1980-Carter.txt people :  611\n",
      "1981-Reagan.txt men :  149\n",
      "1981-Reagan.txt women :  45\n",
      "1981-Reagan.txt people :  622\n",
      "1982-Reagan.txt men :  150\n",
      "1982-Reagan.txt women :  46\n",
      "1982-Reagan.txt people :  639\n",
      "1983-Reagan.txt men :  153\n",
      "1983-Reagan.txt women :  53\n",
      "1983-Reagan.txt people :  658\n",
      "1984-Reagan.txt men :  156\n",
      "1984-Reagan.txt women :  58\n",
      "1984-Reagan.txt people :  681\n",
      "1985-Reagan.txt men :  157\n",
      "1985-Reagan.txt women :  59\n",
      "1985-Reagan.txt people :  693\n",
      "1986-Reagan.txt men :  159\n",
      "1986-Reagan.txt women :  61\n",
      "1986-Reagan.txt people :  707\n",
      "1987-Reagan.txt men :  160\n",
      "1987-Reagan.txt women :  61\n",
      "1987-Reagan.txt people :  731\n",
      "1988-Reagan.txt men :  161\n",
      "1988-Reagan.txt women :  61\n",
      "1988-Reagan.txt people :  747\n",
      "1989-Bush.txt men :  163\n",
      "1989-Bush.txt women :  64\n",
      "1989-Bush.txt people :  760\n",
      "1990-Bush.txt men :  166\n",
      "1990-Bush.txt women :  66\n",
      "1990-Bush.txt people :  769\n",
      "1991-Bush-1.txt men :  168\n",
      "1991-Bush-1.txt women :  68\n",
      "1991-Bush-1.txt people :  782\n",
      "1991-Bush-2.txt men :  175\n",
      "1991-Bush-2.txt women :  75\n",
      "1991-Bush-2.txt people :  795\n",
      "1992-Bush.txt men :  179\n",
      "1992-Bush.txt women :  79\n",
      "1992-Bush.txt people :  821\n",
      "1993-Clinton.txt men :  180\n",
      "1993-Clinton.txt women :  81\n",
      "1993-Clinton.txt people :  866\n",
      "1994-Clinton.txt men :  181\n",
      "1994-Clinton.txt women :  82\n",
      "1994-Clinton.txt people :  929\n",
      "1995-Clinton.txt men :  182\n",
      "1995-Clinton.txt women :  85\n",
      "1995-Clinton.txt people :  1002\n",
      "1996-Clinton.txt men :  184\n",
      "1996-Clinton.txt women :  88\n",
      "1996-Clinton.txt people :  1042\n",
      "1997-Clinton.txt men :  185\n",
      "1997-Clinton.txt women :  90\n",
      "1997-Clinton.txt people :  1072\n",
      "1998-Clinton.txt men :  187\n",
      "1998-Clinton.txt women :  92\n",
      "1998-Clinton.txt people :  1094\n",
      "1999-Clinton.txt men :  189\n",
      "1999-Clinton.txt women :  95\n",
      "1999-Clinton.txt people :  1116\n",
      "2000-Clinton.txt men :  194\n",
      "2000-Clinton.txt women :  101\n",
      "2000-Clinton.txt people :  1157\n",
      "2001-GWBush-1.txt men :  197\n",
      "2001-GWBush-1.txt women :  104\n",
      "2001-GWBush-1.txt people :  1171\n",
      "2001-GWBush-2.txt men :  198\n",
      "2001-GWBush-2.txt women :  106\n",
      "2001-GWBush-2.txt people :  1183\n",
      "2002-GWBush.txt men :  201\n",
      "2002-GWBush.txt women :  111\n",
      "2002-GWBush.txt people :  1197\n",
      "2003-GWBush.txt men :  207\n",
      "2003-GWBush.txt women :  115\n",
      "2003-GWBush.txt people :  1230\n",
      "2004-GWBush.txt men :  213\n",
      "2004-GWBush.txt women :  123\n",
      "2004-GWBush.txt people :  1251\n",
      "2005-GWBush.txt men :  221\n",
      "2005-GWBush.txt women :  134\n",
      "2005-GWBush.txt people :  1269\n",
      "2006-GWBush.txt men :  228\n",
      "2006-GWBush.txt women :  141\n",
      "2006-GWBush.txt people :  1291\n"
     ]
    }
   ],
   "source": [
    "textos = nltk.corpus.state_union.fileids() # asignamos los textos a la variable\n",
    "#print(textos) #imprimimos para saber que contiene\n",
    "\n",
    "resultado = [None]*3\n",
    "buscar=['men','women','people']\n",
    "contenido_p = []\n",
    "for texto in nltk.corpus.state_union.fileids(): # usamos el for para separar los textos y sacar los datos uno por uno\n",
    "    \n",
    "    for palabra in nltk.corpus.state_union.words(texto):\n",
    "         contenido_p.append(palabra)\n",
    "            \n",
    "    for i in range(3):       \n",
    "        numero = contenido_p.count(buscar[i])\n",
    "        print(texto, buscar[i],\": \",numero)   \n"
   ]
  },
  {
   "cell_type": "markdown",
   "metadata": {},
   "source": [
    "El texto sugiere que antes de 1970 el término mujer era menos usada, pero desde entonces se ha usado más o menos como el término hombres . Personas es el término mas usado, especialmente en los últimos años."
   ]
  },
  {
   "cell_type": "markdown",
   "metadata": {},
   "source": [
    "# 11 Investigate the table of modal distributions and look for other patterns. Try to explain them in terms of your own impressionistic understanding of the different genres. Can you find other closed classes of words that exhibit significant differences across different genres?"
   ]
  },
  {
   "cell_type": "code",
   "execution_count": 9,
   "metadata": {},
   "outputs": [
    {
     "name": "stdout",
     "output_type": "stream",
     "text": [
      "                 who might  when where  will   how \n",
      "     adventure    91    58   126    53    50    35 \n",
      "    government    74    13    56    46   244    16 \n",
      "       hobbies   103    22   119    72   264    40 \n",
      "       mystery    80    57   114    59    20    37 \n",
      "belles_lettres   452   113   252   107   236    96 \n",
      "       reviews   128    26    54    25    58    26 \n",
      "Rta - Si, se puede encontrar clases cerradas de palabras\n"
     ]
    }
   ],
   "source": [
    "from nltk.corpus import brown\n",
    "texto = nltk.ConditionalFreqDist(\n",
    "    (genero,palabra)\n",
    "    for genero in brown.categories() \n",
    "    for palabra in brown.words(categories=genero))\n",
    "\n",
    "generos = ['adventure', 'government', 'hobbies', 'mystery', 'belles_lettres', 'reviews']\n",
    "\n",
    "palabras = [\"who\", \"might\", \"when\", \"where\", \"will\", \"how\"]\n",
    "\n",
    "texto.tabulate(conditions=generos, samples=palabras)\n",
    "# most frequent in new is who, when;religion is who, what;hobbies is who, when,etc.\n",
    "\n",
    "\n",
    "rta2 = \"Rta - Si, se puede encontrar clases cerradas de palabras\"\n",
    "\n",
    "print(rta2)\n"
   ]
  }
 ],
 "metadata": {
  "kernelspec": {
   "display_name": "Python 3",
   "language": "python",
   "name": "python3"
  },
  "language_info": {
   "codemirror_mode": {
    "name": "ipython",
    "version": 3
   },
   "file_extension": ".py",
   "mimetype": "text/x-python",
   "name": "python",
   "nbconvert_exporter": "python",
   "pygments_lexer": "ipython3",
   "version": "3.8.3"
  }
 },
 "nbformat": 4,
 "nbformat_minor": 4
}
