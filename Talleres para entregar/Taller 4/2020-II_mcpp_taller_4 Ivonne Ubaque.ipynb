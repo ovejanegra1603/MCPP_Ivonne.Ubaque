{
 "cells": [
  {
   "cell_type": "markdown",
   "metadata": {},
   "source": [
    "# Taller 4\n",
    "Métodos Computacionales para Políticas Públicas - URosario\n",
    "\n",
    "**Entrega: viernes 11-sep-2020 11:59 PM**"
   ]
  },
  {
   "cell_type": "markdown",
   "metadata": {},
   "source": [
    "<div class=\"alert alert-success\">\n",
    "\n",
    "**[Ivonne Paola Ubaque Galán]** <br><br>\n",
    "[ivonne.ubaque@urosario.edu.co]\n",
    "</div>"
   ]
  },
  {
   "cell_type": "markdown",
   "metadata": {},
   "source": [
    "## Instrucciones:\n",
    "- Guarde una copia de este *Jupyter Notebook* en su computador, idealmente en una carpeta destinada al material del curso.\n",
    "- Modifique el nombre del archivo del *notebook*, agregando al final un guión inferior y su nombre y apellido, separados estos últimos por otro guión inferior. Por ejemplo, mi *notebook* se llamaría: mcpp_taller4_santiago_matallana\n",
    "- Marque el *notebook* con su nombre y e-mail en el bloque verde arriba. Reemplace el texto \"[Su nombre acá]\" con su nombre y apellido. Similar para su e-mail.\n",
    "- Desarrolle la totalidad del taller sobre este *notebook*, insertando las celdas que sea necesario debajo de cada pregunta. Haga buen uso de las celdas para código y de las celdas tipo *markdown* según el caso.\n",
    "- Recuerde salvar periódicamente sus avances.\n",
    "- Cuando termine el taller:\n",
    "    1. Descárguelo en PDF.\n",
    "    2. Suba los dos archivos (.pdf y .ipynb) a su repositorio en GitHub antes de la fecha y hora límites.\n",
    "\n",
    "(Todos los ejercicios tienen el mismo valor.)"
   ]
  },
  {
   "cell_type": "markdown",
   "metadata": {},
   "source": [
    "---"
   ]
  },
  {
   "cell_type": "markdown",
   "metadata": {},
   "source": [
    "## Zelle, Exercises 6.8 (p. 159):\n",
    "\n",
    "- True/False: 1-10\n",
    "- Multiple choice: 2, 3, 6, 7, 10\n",
    "- Programming Exercises: 1, 3, 4, 11, 12, 13"
   ]
  },
  {
   "cell_type": "markdown",
   "metadata": {},
   "source": [
    "### I. True/False\n",
    "\n",
    "1. F\n",
    "2. F\n",
    "3. V\n",
    "4. V\n",
    "5. V\n",
    "6. F\n",
    "7. F\n",
    "8. V\n",
    "9. V\n",
    "10. V"
   ]
  },
  {
   "cell_type": "markdown",
   "metadata": {},
   "source": [
    "### II. Múltiple choice: 2, 3, 6, 7 y 10\n",
    "\n",
    "2. a\n",
    "3. a\n",
    "6. b\n",
    "7. d\n",
    "10. c"
   ]
  },
  {
   "cell_type": "markdown",
   "metadata": {},
   "source": [
    "### III. Programing exercises"
   ]
  },
  {
   "cell_type": "code",
   "execution_count": 1,
   "metadata": {},
   "outputs": [],
   "source": [
    "## 3.1 Primer ejercicio\n",
    "\n",
    "def cancion():\n",
    "    print(\"Old MacDonald had a farm, Ee-igh. Ee-igh, Oh!\")\n",
    "    \n",
    "def animal1():\n",
    "    cancion()\n",
    "    print(\"and on that farm he had a cow, Ee-igh. Ee-igh, Oh!\")\n",
    "    cancion()\n",
    "    \n",
    "def animal2():\n",
    "    cancion()\n",
    "    cancion()\n",
    "    print(\"and on that farm he had a horse, Ee-igh. Ee-igh, Oh!\")\n",
    "    cancion()\n",
    "    \n",
    "def animal3():\n",
    "    cancion()\n",
    "    cancion()\n",
    "    print(\"and on that farm he had a pig, Ee-igh. Ee-igh, Oh!\")\n",
    "    cancion()\n",
    "    \n",
    "def animal4():\n",
    "    cancion()\n",
    "    cancion()\n",
    "    print(\"and on that farm he had a chicken, Ee-igh. Ee-igh, Oh!\")\n",
    "    cancion()\n",
    "    \n",
    "def animal5():\n",
    "    cancion()\n",
    "    cancion()\n",
    "    print(\"and on that farm he had a cat, Ee-igh. Ee-igh, Oh!\")\n",
    "    cancion()\n",
    "    \n",
    "def cancionfinal():\n",
    "    animal1()\n",
    "    print()\n",
    "    animal2()\n",
    "    print()\n",
    "    animal3()\n",
    "    print()\n",
    "    animal4()\n",
    "    print()\n",
    "    animal5()\n",
    "    print()"
   ]
  },
  {
   "cell_type": "code",
   "execution_count": 2,
   "metadata": {
    "scrolled": true
   },
   "outputs": [
    {
     "name": "stdout",
     "output_type": "stream",
     "text": [
      "Old MacDonald had a farm, Ee-igh. Ee-igh, Oh!\n",
      "and on that farm he had a cow, Ee-igh. Ee-igh, Oh!\n",
      "Old MacDonald had a farm, Ee-igh. Ee-igh, Oh!\n",
      "\n",
      "Old MacDonald had a farm, Ee-igh. Ee-igh, Oh!\n",
      "Old MacDonald had a farm, Ee-igh. Ee-igh, Oh!\n",
      "and on that farm he had a horse, Ee-igh. Ee-igh, Oh!\n",
      "Old MacDonald had a farm, Ee-igh. Ee-igh, Oh!\n",
      "\n",
      "Old MacDonald had a farm, Ee-igh. Ee-igh, Oh!\n",
      "Old MacDonald had a farm, Ee-igh. Ee-igh, Oh!\n",
      "and on that farm he had a pig, Ee-igh. Ee-igh, Oh!\n",
      "Old MacDonald had a farm, Ee-igh. Ee-igh, Oh!\n",
      "\n",
      "Old MacDonald had a farm, Ee-igh. Ee-igh, Oh!\n",
      "Old MacDonald had a farm, Ee-igh. Ee-igh, Oh!\n",
      "and on that farm he had a chicken, Ee-igh. Ee-igh, Oh!\n",
      "Old MacDonald had a farm, Ee-igh. Ee-igh, Oh!\n",
      "\n",
      "Old MacDonald had a farm, Ee-igh. Ee-igh, Oh!\n",
      "Old MacDonald had a farm, Ee-igh. Ee-igh, Oh!\n",
      "and on that farm he had a cat, Ee-igh. Ee-igh, Oh!\n",
      "Old MacDonald had a farm, Ee-igh. Ee-igh, Oh!\n",
      "\n"
     ]
    }
   ],
   "source": [
    "cancionfinal()"
   ]
  },
  {
   "cell_type": "markdown",
   "metadata": {},
   "source": [
    "## 3.2 Segundo ejercicio. N° 3\n",
    "Ejercicios de programación capítulo 3. Ejercicio 1\n",
    "Escriba un programa que calcule el volumen y área de superficie de una ésfera, a partir de su radio, dado como entrada. Tenga en cuenta las formulas dadas en el ejercicio. "
   ]
  },
  {
   "cell_type": "code",
   "execution_count": 3,
   "metadata": {},
   "outputs": [
    {
     "name": "stdout",
     "output_type": "stream",
     "text": [
      "Por favor, escriba el radio de la ésfera: 10\n",
      "El área de la ésfera es 1256.6370614359173\n",
      "el volumen de la ésfera es 4188.790204786391\n"
     ]
    }
   ],
   "source": [
    "from math import pi\n",
    "\n",
    "r = float(input('Por favor, escriba el radio de la ésfera: '))\n",
    "\n",
    "def spherearea(r):\n",
    "    area = 4*pi*r**2\n",
    "    return area\n",
    "\n",
    "def volume(r):\n",
    "    volumen = 4/3*pi*r**3\n",
    "    return volumen\n",
    "\n",
    "radio = r\n",
    "print(\"El área de la ésfera es\", spherearea(radio))\n",
    "print(\"el volumen de la ésfera es\", volume(r))"
   ]
  },
  {
   "cell_type": "markdown",
   "metadata": {},
   "source": [
    "## 3.3. Tercer Ejercicio. N° 4. \n",
    "Escriba definiciones para las siguientes dos funciones:\n",
    "\n",
    "sumN(n) devuelve la suma de los primeros n números naturales.\n",
    "\n",
    "sumNCubes(n): devuelve la suma de los cubos de los primeros n números naturales.\n",
    "\n",
    "Luego use estas oraciones en un programa que solicite el uso de n e imprima la suma de los primeros n números naturales y la suma de los cubos de los primeros n números naturales."
   ]
  },
  {
   "cell_type": "code",
   "execution_count": 7,
   "metadata": {},
   "outputs": [
    {
     "name": "stdout",
     "output_type": "stream",
     "text": [
      "Por favor, escriba un número entero: 99\n",
      "Su resultado es:  4950.0\n"
     ]
    }
   ],
   "source": [
    "### Devolución de la suma de los primeros n números naturales.\n",
    "\n",
    "def sumar(n):\n",
    "    return(n*(n+1))/2\n",
    "\n",
    "numeroentero = float(input('Por favor, escriba un número entero: '))\n",
    "suma = sumar(numeroentero)\n",
    "\n",
    "print(\"Su resultado es: \", suma)"
   ]
  },
  {
   "cell_type": "code",
   "execution_count": 8,
   "metadata": {},
   "outputs": [
    {
     "name": "stdout",
     "output_type": "stream",
     "text": [
      "Por favor, escriba un número entero para calcularle la sumatoria de cubos: 99\n",
      "Su resultado es:  23532201.0\n"
     ]
    }
   ],
   "source": [
    "### Devolución de la sumatoria de cubos del número solicitado\n",
    "\n",
    "def suma_cubos(n):\n",
    "    suma = 0\n",
    "    n -= 1\n",
    "    \n",
    "    while n > 0:\n",
    "        suma += n**3\n",
    "        n -= 1\n",
    "    \n",
    "    return suma\n",
    "\n",
    "numeroentero = float(input('Por favor, escriba un número entero para calcularle la sumatoria de cubos: '))\n",
    "sumacubos = suma_cubos(numeroentero)\n",
    "    \n",
    "print(\"Su resultado es: \", sumacubos)"
   ]
  },
  {
   "cell_type": "markdown",
   "metadata": {},
   "source": [
    "## 3.4. Ejercicio. N° 11. Escribe una prueba de una función para cumplir con esta especificación:\n",
    "\n",
    "### squareEach (nums) nums es una lista de números. Modifica la lista, elevando al cuadrado cada entrada"
   ]
  },
  {
   "cell_type": "code",
   "execution_count": 10,
   "metadata": {},
   "outputs": [
    {
     "data": {
      "text/plain": [
       "array([2.91600e+01, 1.00000e+00, 2.02500e+03, 8.01025e+03, 1.00000e+04,\n",
       "       4.00000e+00])"
      ]
     },
     "execution_count": 10,
     "metadata": {},
     "output_type": "execute_result"
    }
   ],
   "source": [
    "import numpy as np\n",
    "\n",
    "def potencia_cuadrado(arreglo):\n",
    "    iterador = np.nditer([arreglo, None])\n",
    "    \n",
    "    for a, b in iterador:\n",
    "        b[...] = a**2\n",
    "        \n",
    "    return iterador.operands[1]\n",
    "\n",
    "potencia_cuadrado([5.4, 1, 45, 89.5, 100, 2])"
   ]
  },
  {
   "cell_type": "markdown",
   "metadata": {},
   "source": [
    "### 3.5 Ejercicio. N° 12. Escribe una prueba de una función para cumplir con esta especificación:\n",
    "\n",
    "### Devuelva la suma de los números de una lista"
   ]
  },
  {
   "cell_type": "code",
   "execution_count": 9,
   "metadata": {},
   "outputs": [
    {
     "name": "stdout",
     "output_type": "stream",
     "text": [
      "258.04\n"
     ]
    }
   ],
   "source": [
    "def suma_lista(lista):\n",
    "    suma = 0\n",
    "    \n",
    "    for numero in lista:\n",
    "        suma += numero\n",
    "    \n",
    "    return suma\n",
    "\n",
    "lista_ensayo = [47.8, 1, 108, 99, 2.24]\n",
    "\n",
    "print(suma_lista (lista_ensayo))"
   ]
  }
 ],
 "metadata": {
  "anaconda-cloud": {},
  "kernelspec": {
   "display_name": "Python 3",
   "language": "python",
   "name": "python3"
  },
  "language_info": {
   "codemirror_mode": {
    "name": "ipython",
    "version": 3
   },
   "file_extension": ".py",
   "mimetype": "text/x-python",
   "name": "python",
   "nbconvert_exporter": "python",
   "pygments_lexer": "ipython3",
   "version": "3.8.3"
  }
 },
 "nbformat": 4,
 "nbformat_minor": 1
}
